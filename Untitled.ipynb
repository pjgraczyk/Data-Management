{
 "cells": [
  {
   "cell_type": "code",
   "execution_count": 1,
   "id": "8abeadf2-e167-4e60-a20c-a664d2a043f1",
   "metadata": {},
   "outputs": [
    {
     "name": "stdout",
     "output_type": "stream",
     "text": [
      "Hello SDA\n"
     ]
    }
   ],
   "source": [
    "print(\"Hello SDA\")"
   ]
  },
  {
   "cell_type": "code",
   "execution_count": 2,
   "id": "980eacbf-3b3b-4f40-916c-bcf8476ccce6",
   "metadata": {},
   "outputs": [],
   "source": [
    "import pandas as pd"
   ]
  },
  {
   "cell_type": "code",
   "execution_count": null,
   "id": "d9beeccd-4d87-4dd6-bf0f-e4c55e803089",
   "metadata": {},
   "outputs": [],
   "source": []
  }
 ],
 "metadata": {
  "kernelspec": {
   "display_name": "Python 3 (ipykernel)",
   "language": "python",
   "name": "python3"
  },
  "language_info": {
   "codemirror_mode": {
    "name": "ipython",
    "version": 3
   },
   "file_extension": ".py",
   "mimetype": "text/x-python",
   "name": "python",
   "nbconvert_exporter": "python",
   "pygments_lexer": "ipython3",
   "version": "3.10.4"
  }
 },
 "nbformat": 4,
 "nbformat_minor": 5
}
